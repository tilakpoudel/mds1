{
 "cells": [
  {
   "cell_type": "markdown",
   "id": "cf9f67e2-7b28-4ba6-ab3e-6bc1337ba182",
   "metadata": {},
   "source": [
    "# 1. Initial Data Processing\n",
    "- Load the dataset into a pandas DataFrame.\n",
    "- Subset the data to include only seasons before 2002. Save the 2002 data for testing."
   ]
  },
  {
   "cell_type": "code",
   "execution_count": 2,
   "id": "9825d3c0-e311-4712-b2f2-d32f6fdf4d56",
   "metadata": {},
   "outputs": [
    {
     "name": "stdout",
     "output_type": "stream",
     "text": [
      "      id     player  year  stint team  lg   g  ab  r   h  ...  rbi   sb   cs  \\\n",
      "0  88641  womacto01  2006      2  CHN  NL  19  50  6  14  ...  2.0  1.0  1.0   \n",
      "1  88643  schilcu01  2006      1  BOS  AL  31   2  0   1  ...  0.0  0.0  0.0   \n",
      "2  88645  myersmi01  2006      1  NYA  AL  62   0  0   0  ...  0.0  0.0  0.0   \n",
      "3  88649  helliri01  2006      1  MIL  NL  20   3  0   0  ...  0.0  0.0  0.0   \n",
      "4  88650  johnsra05  2006      1  NYA  AL  33   6  0   1  ...  0.0  0.0  0.0   \n",
      "\n",
      "   bb   so  ibb  hbp   sh   sf  gidp  \n",
      "0   4  4.0  0.0  0.0  3.0  0.0   0.0  \n",
      "1   0  1.0  0.0  0.0  0.0  0.0   0.0  \n",
      "2   0  0.0  0.0  0.0  0.0  0.0   0.0  \n",
      "3   0  2.0  0.0  0.0  0.0  0.0   0.0  \n",
      "4   0  4.0  0.0  0.0  0.0  0.0   0.0  \n",
      "\n",
      "[5 rows x 23 columns]\n"
     ]
    }
   ],
   "source": [
    "import pandas as pd\n",
    "\n",
    "# Load dataset\n",
    "df = pd.read_csv('data/baseball.csv')\n",
    "print(df.head())"
   ]
  },
  {
   "cell_type": "code",
   "execution_count": 3,
   "id": "4e86d555-be5a-46cd-a6bc-2d5985a77d13",
   "metadata": {},
   "outputs": [
    {
     "name": "stdout",
     "output_type": "stream",
     "text": [
      "0\n",
      "Empty DataFrame\n",
      "Columns: [id, player, year, stint, team, lg, g, ab, r, h, X2b, X3b, hr, rbi, sb, cs, bb, so, ibb, hbp, sh, sf, gidp]\n",
      "Index: []\n",
      "\n",
      "[0 rows x 23 columns]\n",
      "Empty DataFrame\n",
      "Columns: [id, player, year, stint, team, lg, g, ab, r, h, X2b, X3b, hr, rbi, sb, cs, bb, so, ibb, hbp, sh, sf, gidp]\n",
      "Index: []\n",
      "\n",
      "[0 rows x 23 columns]\n"
     ]
    }
   ],
   "source": [
    "# Filter for data before 2002\n",
    "df_before_2002 = df[df['year'] < 2002]\n",
    "\n",
    "print(df_before_2002['year'].nunique())\n",
    "print(df_before_2002.head())\n",
    "\n",
    "# Save 2002 season-level data\n",
    "df_2002 = df[df['year'] == 2002]\n",
    "print(df_2002)"
   ]
  },
  {
   "cell_type": "code",
   "execution_count": null,
   "id": "84d5b76a-14ae-497b-af58-e2dbcd7955ef",
   "metadata": {},
   "outputs": [],
   "source": []
  },
  {
   "cell_type": "code",
   "execution_count": null,
   "id": "c96a889c-031e-4304-9cc4-367928ea214c",
   "metadata": {},
   "outputs": [],
   "source": []
  },
  {
   "cell_type": "code",
   "execution_count": null,
   "id": "b85e2f8d-2f96-4c58-bdaf-2cb05ea3ec77",
   "metadata": {},
   "outputs": [],
   "source": []
  },
  {
   "cell_type": "code",
   "execution_count": null,
   "id": "072f847e-ca02-4a05-82a0-5e957185f844",
   "metadata": {},
   "outputs": [],
   "source": []
  }
 ],
 "metadata": {
  "kernelspec": {
   "display_name": "usr",
   "language": "python",
   "name": "python3"
  },
  "language_info": {
   "codemirror_mode": {
    "name": "ipython",
    "version": 3
   },
   "file_extension": ".py",
   "mimetype": "text/x-python",
   "name": "python",
   "nbconvert_exporter": "python",
   "pygments_lexer": "ipython3",
   "version": "3.10.12"
  }
 },
 "nbformat": 4,
 "nbformat_minor": 5
}
