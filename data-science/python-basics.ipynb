{
 "cells": [
  {
   "cell_type": "code",
   "execution_count": 1,
   "id": "5f19677e-08e2-4554-95a7-e2237a066df3",
   "metadata": {
    "scrolled": true
   },
   "outputs": [
    {
     "name": "stdout",
     "output_type": "stream",
     "text": [
      "Hello\n"
     ]
    }
   ],
   "source": [
    "print(\"Hello\")\n"
   ]
  },
  {
   "cell_type": "code",
   "execution_count": 7,
   "id": "705d02aa-473c-4a6d-a2b2-b3d31d78cdc1",
   "metadata": {},
   "outputs": [
    {
     "name": "stdout",
     "output_type": "stream",
     "text": [
      "John Doe\n",
      "<class 'str'>\n",
      "3.14\n"
     ]
    }
   ],
   "source": [
    "x = 10  # Integer\n",
    "y = 3.14  # Float (decimal number)\n",
    "name = \"John Doe\"  # String\n",
    "is_student = True  # Boolean (True/False)\n",
    "print(name)\n",
    "print(type(name))\n",
    "print(y)\n"
   ]
  },
  {
   "cell_type": "code",
   "execution_count": 8,
   "id": "9d0906a7-98e1-49c1-b3d7-13ea82f6b5d6",
   "metadata": {},
   "outputs": [
    {
     "name": "stdout",
     "output_type": "stream",
     "text": [
      "Name: Hari Age: 26\n"
     ]
    }
   ],
   "source": [
    "name = \"Hari\"\n",
    "age = 26\n",
    "print(\"Name:\", name, \"Age:\", age)"
   ]
  },
  {
   "cell_type": "code",
   "execution_count": 9,
   "id": "c76450ba-e0d2-47ab-b3f9-ba24ccd6b1e5",
   "metadata": {},
   "outputs": [
    {
     "name": "stdout",
     "output_type": "stream",
     "text": [
      "Hello, I am Hari. I am 26 years old.\n"
     ]
    }
   ],
   "source": [
    "print(f\"Hello, I am {name}. I am {age} years old.\")"
   ]
  },
  {
   "cell_type": "code",
   "execution_count": 10,
   "id": "e4c8164d-b2b4-4d03-a8f5-355450e4bf70",
   "metadata": {},
   "outputs": [
    {
     "name": "stdin",
     "output_type": "stream",
     "text": [
      "Can you please tell your sweet name ? krishna\n"
     ]
    },
    {
     "name": "stdout",
     "output_type": "stream",
     "text": [
      "Hello, krishna!\n"
     ]
    }
   ],
   "source": [
    "name = input(\"Can you please tell your sweet name ?\")\n",
    "print(f\"Hello, {name}!\")"
   ]
  },
  {
   "cell_type": "code",
   "execution_count": 13,
   "id": "fe542646-9a60-4c03-a046-6db854b32713",
   "metadata": {},
   "outputs": [
    {
     "name": "stdout",
     "output_type": "stream",
     "text": [
      "krishna. WOW!!.\n"
     ]
    },
    {
     "name": "stdin",
     "output_type": "stream",
     "text": [
      "Would you mind to tell your age ? 30\n"
     ]
    },
    {
     "name": "stdout",
     "output_type": "stream",
     "text": [
      "You are 30 years old.\n"
     ]
    }
   ],
   "source": [
    "print(f\"{name}. WOW!!.\")\n",
    "age = int(input(\"Would you mind to tell your age ?\"))\n",
    "print(f\"You are {age} years old.\")"
   ]
  },
  {
   "cell_type": "code",
   "execution_count": 15,
   "id": "cae3d2aa-1962-476f-859c-c3821e769e99",
   "metadata": {},
   "outputs": [
    {
     "name": "stdin",
     "output_type": "stream",
     "text": [
      "which country are you from and which city (separated by comma) india mathura\n"
     ]
    },
    {
     "name": "stdout",
     "output_type": "stream",
     "text": [
      "Intersting you are from mathura, india!\n"
     ]
    }
   ],
   "source": [
    "country, city = input(\"which country are you from and which city (separated by comma)\").split()\n",
    "print(f\"Intersting you are from {city}, {country}!\")"
   ]
  },
  {
   "cell_type": "code",
   "execution_count": null,
   "id": "6058f130-fd87-4f30-8e88-31356f9ac0e7",
   "metadata": {},
   "outputs": [],
   "source": [
    "# Data types in Python"
   ]
  },
  {
   "cell_type": "code",
   "execution_count": 16,
   "id": "0740581c-5083-4429-a0df-140b7450ceb0",
   "metadata": {},
   "outputs": [
    {
     "name": "stdout",
     "output_type": "stream",
     "text": [
      "<class 'int'>\n",
      "<class 'float'>\n",
      "<class 'str'>\n",
      "<class 'bool'>\n"
     ]
    }
   ],
   "source": [
    "x = 10\n",
    "y = 3.14\n",
    "name = \"Alice\"\n",
    "is_active = True\n",
    "\n",
    "print(type(x))  # <class 'int'>\n",
    "print(type(y))  # <class 'float'>\n",
    "print(type(name))  # <class 'str'>\n",
    "print(type(is_active))  # <class 'bool'>\n"
   ]
  },
  {
   "cell_type": "code",
   "execution_count": 17,
   "id": "bb681cd5-a48e-42ee-b130-639e4fcacfe3",
   "metadata": {},
   "outputs": [
    {
     "name": "stdin",
     "output_type": "stream",
     "text": [
      "Enter your age:  52\n"
     ]
    },
    {
     "name": "stdout",
     "output_type": "stream",
     "text": [
      "You will be 53 next year.\n"
     ]
    }
   ],
   "source": [
    "age = input(\"Enter your age: \")  # Always returns a string\n",
    "age = int(age)  # Convert to integer\n",
    "print(f\"You will be {age + 1} next year.\")\n"
   ]
  },
  {
   "cell_type": "code",
   "execution_count": 18,
   "id": "d3be91c8-fece-4a59-ae0a-d09e9408fbf9",
   "metadata": {},
   "outputs": [
    {
     "name": "stdout",
     "output_type": "stream",
     "text": [
      "The number is 100\n"
     ]
    }
   ],
   "source": [
    "num = 100\n",
    "num_str = str(num)\n",
    "print(\"The number is \" + num_str)  # Concatenation requires strings\n"
   ]
  },
  {
   "cell_type": "code",
   "execution_count": 19,
   "id": "52d92672-004d-41fb-a049-5544eb46e87f",
   "metadata": {},
   "outputs": [
    {
     "name": "stdout",
     "output_type": "stream",
     "text": [
      "(1, 2, 3, 4) {1, 2, 3, 4}\n"
     ]
    }
   ],
   "source": [
    "my_list = [1, 2, 3, 4]\n",
    "my_tuple = tuple(my_list)  # Convert list to tuple\n",
    "my_set = set(my_list)  # Convert list to set\n",
    "print(my_tuple, my_set)\n"
   ]
  },
  {
   "cell_type": "code",
   "execution_count": 20,
   "id": "1e0e24fc-7ff5-4f3d-8527-090f24756c8c",
   "metadata": {},
   "outputs": [
    {
     "name": "stdout",
     "output_type": "stream",
     "text": [
      "13\n",
      "7\n",
      "30\n",
      "3.3333333333333335\n",
      "3\n",
      "1\n",
      "1000\n"
     ]
    }
   ],
   "source": [
    "a = 10\n",
    "b = 3\n",
    "\n",
    "print(a + b)  # 13\n",
    "print(a - b)  # 7\n",
    "print(a * b)  # 30\n",
    "print(a / b)  # 3.3333\n",
    "print(a // b)  # 3\n",
    "print(a % b)  # 1\n",
    "print(a ** b)  # 1000 (10^3)\n"
   ]
  },
  {
   "cell_type": "code",
   "execution_count": 21,
   "id": "66f2749c-ffb7-465f-8340-dc13a6c3b270",
   "metadata": {},
   "outputs": [
    {
     "name": "stdout",
     "output_type": "stream",
     "text": [
      "3.14\n"
     ]
    }
   ],
   "source": [
    "num = 3.14159\n",
    "print(round(num, 2))  # 3.14 (Rounded to 2 decimal places)\n"
   ]
  },
  {
   "cell_type": "code",
   "execution_count": 22,
   "id": "3efbf220-cdda-4cb2-8f15-bdcaf6500fb5",
   "metadata": {},
   "outputs": [
    {
     "name": "stdout",
     "output_type": "stream",
     "text": [
      "7\n"
     ]
    }
   ],
   "source": [
    "num = 7.8\n",
    "print(int(num))  # Output: 7 (removes decimal part, no rounding)\n"
   ]
  },
  {
   "cell_type": "code",
   "execution_count": 23,
   "id": "dbef72c2-1fa7-4b47-8b76-a049ec0710ac",
   "metadata": {},
   "outputs": [
    {
     "name": "stdout",
     "output_type": "stream",
     "text": [
      "5000.0 0.00012\n"
     ]
    }
   ],
   "source": [
    "x = 5e3  # 5 * 10^3 = 5000.0\n",
    "y = 1.2e-4  # 1.2 * 10^-4 = 0.00012\n",
    "print(x, y)\n"
   ]
  },
  {
   "cell_type": "code",
   "execution_count": null,
   "id": "992fd2ed-f929-4de4-be0c-de9416ff1411",
   "metadata": {},
   "outputs": [],
   "source": [
    "# Conditions in Python (if, elif, else)"
   ]
  },
  {
   "cell_type": "code",
   "execution_count": 24,
   "id": "4c95fe00-e18c-4b38-8d97-860c066a9a30",
   "metadata": {},
   "outputs": [
    {
     "name": "stdout",
     "output_type": "stream",
     "text": [
      "You are eligible to vote.\n"
     ]
    }
   ],
   "source": [
    "age = 18\n",
    "\n",
    "if age >= 18:\n",
    "    print(\"You are eligible to vote.\")\n"
   ]
  },
  {
   "cell_type": "code",
   "execution_count": 25,
   "id": "f8e67583-f7d3-4034-b957-a194d80ccf2e",
   "metadata": {},
   "outputs": [
    {
     "name": "stdout",
     "output_type": "stream",
     "text": [
      "You are not eligible to vote.\n"
     ]
    }
   ],
   "source": [
    "age = 16\n",
    "\n",
    "if age >= 18:\n",
    "    print(\"You are eligible to vote.\")\n",
    "else:\n",
    "    print(\"You are not eligible to vote.\")\n"
   ]
  },
  {
   "cell_type": "code",
   "execution_count": 26,
   "id": "8c463ee9-fd94-462c-85b0-f038423b6168",
   "metadata": {},
   "outputs": [
    {
     "name": "stdout",
     "output_type": "stream",
     "text": [
      "Grade: B\n"
     ]
    }
   ],
   "source": [
    "score = 85\n",
    "\n",
    "if score >= 90:\n",
    "    print(\"Grade: A\")\n",
    "elif score >= 80:\n",
    "    print(\"Grade: B\")\n",
    "elif score >= 70:\n",
    "    print(\"Grade: C\")\n",
    "else:\n",
    "    print(\"Grade: F\")\n"
   ]
  },
  {
   "cell_type": "code",
   "execution_count": null,
   "id": "620e3c1e-b1f7-4110-8f1e-bff57c6965eb",
   "metadata": {},
   "outputs": [],
   "source": [
    "# Logical Operators (or and not)"
   ]
  },
  {
   "cell_type": "code",
   "execution_count": 27,
   "id": "fc36cd39-3086-4721-b589-68cde6a795c6",
   "metadata": {},
   "outputs": [
    {
     "name": "stdout",
     "output_type": "stream",
     "text": [
      "Eligible for a loan.\n"
     ]
    }
   ],
   "source": [
    "age = 25\n",
    "income = 5000\n",
    "\n",
    "if age > 18 and income > 3000:\n",
    "    print(\"Eligible for a loan.\")\n"
   ]
  },
  {
   "cell_type": "code",
   "execution_count": 28,
   "id": "eb0720e3-91d9-4e42-a037-5516b8103b9d",
   "metadata": {},
   "outputs": [
    {
     "name": "stdout",
     "output_type": "stream",
     "text": [
      "You can participate.\n"
     ]
    }
   ],
   "source": [
    "age = 16\n",
    "has_parent_permission = True\n",
    "\n",
    "if age >= 18 or has_parent_permission:\n",
    "    print(\"You can participate.\")\n"
   ]
  },
  {
   "cell_type": "code",
   "execution_count": 29,
   "id": "60a6dd1a-02dd-445a-8282-fa236c5c6ca5",
   "metadata": {},
   "outputs": [
    {
     "name": "stdout",
     "output_type": "stream",
     "text": [
      "You need to pay full price.\n"
     ]
    }
   ],
   "source": [
    "is_student = False\n",
    "\n",
    "if not is_student:\n",
    "    print(\"You need to pay full price.\")\n"
   ]
  },
  {
   "cell_type": "code",
   "execution_count": 30,
   "id": "5fc8ecf1-c5fe-4994-a718-5e78ed783589",
   "metadata": {},
   "outputs": [
    {
     "name": "stdout",
     "output_type": "stream",
     "text": [
      "You can vote.\n"
     ]
    }
   ],
   "source": [
    "# Nested if \n",
    "age = 20\n",
    "citizen = True\n",
    "\n",
    "if age >= 18:\n",
    "    if citizen:\n",
    "        print(\"You can vote.\")\n",
    "    else:\n",
    "        print(\"You need to be a citizen to vote.\")\n",
    "else:\n",
    "    print(\"You are too young to vote.\")\n"
   ]
  },
  {
   "cell_type": "code",
   "execution_count": null,
   "id": "3e4be1fc-1254-48a1-88f5-56838490d394",
   "metadata": {},
   "outputs": [],
   "source": [
    "@ Iterations (Loops)"
   ]
  },
  {
   "cell_type": "code",
   "execution_count": 31,
   "id": "0d4b5cfb-292c-4e0d-82f8-bf3509433de9",
   "metadata": {},
   "outputs": [
    {
     "name": "stdout",
     "output_type": "stream",
     "text": [
      "apple\n",
      "banana\n",
      "cherry\n"
     ]
    }
   ],
   "source": [
    "fruits = [\"apple\", \"banana\", \"cherry\"]\n",
    "\n",
    "for fruit in fruits:\n",
    "    print(fruit)\n"
   ]
  },
  {
   "cell_type": "code",
   "execution_count": 32,
   "id": "aa95dfbd-9418-465c-94cc-c506c3c6f9b6",
   "metadata": {},
   "outputs": [
    {
     "name": "stdout",
     "output_type": "stream",
     "text": [
      "0\n",
      "1\n",
      "2\n",
      "3\n",
      "4\n"
     ]
    }
   ],
   "source": [
    "for i in range(5):  # Numbers from 0 to 4\n",
    "    print(i)\n"
   ]
  },
  {
   "cell_type": "code",
   "execution_count": 33,
   "id": "2d538f06-8bdb-47df-92eb-ec4adf8d52b3",
   "metadata": {},
   "outputs": [
    {
     "name": "stdout",
     "output_type": "stream",
     "text": [
      "1\n",
      "3\n",
      "5\n",
      "7\n",
      "9\n"
     ]
    }
   ],
   "source": [
    "for num in range(1, 10, 2):  # Start=1, Stop=10, Step=2\n",
    "    print(num)\n"
   ]
  },
  {
   "cell_type": "code",
   "execution_count": 34,
   "id": "49b1b5f5-7ca4-4eda-9933-085fd8acf033",
   "metadata": {},
   "outputs": [
    {
     "name": "stdout",
     "output_type": "stream",
     "text": [
      "0\n",
      "1\n",
      "2\n",
      "3\n",
      "4\n"
     ]
    }
   ],
   "source": [
    "# while loop\n",
    "count = 0\n",
    "\n",
    "while count < 5:\n",
    "    print(count)\n",
    "    count += 1\n"
   ]
  },
  {
   "cell_type": "code",
   "execution_count": 35,
   "id": "a3881da7-4202-45c8-a9f7-0bbd234ead2b",
   "metadata": {},
   "outputs": [
    {
     "name": "stdout",
     "output_type": "stream",
     "text": [
      "1\n",
      "2\n",
      "3\n",
      "4\n"
     ]
    }
   ],
   "source": [
    "for num in range(1, 10):\n",
    "    if num == 5:\n",
    "        break  # Stop the loop when num == 5\n",
    "    print(num)\n"
   ]
  },
  {
   "cell_type": "code",
   "execution_count": 36,
   "id": "0e05a8f0-3e20-4a5e-9c1d-ac40f77571d2",
   "metadata": {},
   "outputs": [
    {
     "name": "stdout",
     "output_type": "stream",
     "text": [
      "1\n",
      "2\n",
      "4\n",
      "5\n"
     ]
    }
   ],
   "source": [
    "for num in range(1, 6):\n",
    "    if num == 3:\n",
    "        continue  # Skip when num == 3\n",
    "    print(num)\n"
   ]
  },
  {
   "cell_type": "code",
   "execution_count": 37,
   "id": "3d4ecd9d-fbf7-4d84-b487-de5c17ec0ae9",
   "metadata": {},
   "outputs": [
    {
     "name": "stdout",
     "output_type": "stream",
     "text": [
      "P\n",
      "y\n",
      "t\n",
      "h\n",
      "o\n",
      "n\n"
     ]
    }
   ],
   "source": [
    "word = \"Python\"\n",
    "\n",
    "for letter in word:\n",
    "    print(letter)\n"
   ]
  },
  {
   "cell_type": "code",
   "execution_count": null,
   "id": "75cd07c4-a439-4171-9b5e-2699de996a53",
   "metadata": {},
   "outputs": [],
   "source": [
    "# List ,sets, Tuples and dictionaries "
   ]
  },
  {
   "cell_type": "code",
   "execution_count": 38,
   "id": "a0d9bc36-a8e9-4a2a-82ba-3a65f6feb515",
   "metadata": {},
   "outputs": [
    {
     "name": "stdout",
     "output_type": "stream",
     "text": [
      "['apple', 'banana', 'cherry']\n"
     ]
    }
   ],
   "source": [
    "fruits = [\"apple\", \"banana\", \"cherry\"]\n",
    "print(fruits)\n"
   ]
  },
  {
   "cell_type": "code",
   "execution_count": 39,
   "id": "280d75e8-5ef9-470d-ab3c-639421c023fa",
   "metadata": {},
   "outputs": [
    {
     "name": "stdout",
     "output_type": "stream",
     "text": [
      "apple\n",
      "cherry\n"
     ]
    }
   ],
   "source": [
    "print(fruits[0])   # First element\n",
    "print(fruits[-1])  # Last element\n"
   ]
  },
  {
   "cell_type": "code",
   "execution_count": 40,
   "id": "02938032-3ece-4d79-bfc6-2ea405ff933d",
   "metadata": {},
   "outputs": [
    {
     "name": "stdout",
     "output_type": "stream",
     "text": [
      "['apple', 'blueberry', 'cherry']\n"
     ]
    }
   ],
   "source": [
    "fruits[1] = \"blueberry\"\n",
    "print(fruits)\n"
   ]
  },
  {
   "cell_type": "code",
   "execution_count": 41,
   "id": "f5ddb99f-2112-4727-9963-6e756b591d06",
   "metadata": {},
   "outputs": [
    {
     "name": "stdout",
     "output_type": "stream",
     "text": [
      "['apple', 'grape', 'blueberry', 'cherry', 'mango']\n"
     ]
    }
   ],
   "source": [
    "fruits.append(\"mango\")   # Add to end\n",
    "fruits.insert(1, \"grape\")  # Insert at index 1\n",
    "print(fruits)\n"
   ]
  },
  {
   "cell_type": "code",
   "execution_count": 42,
   "id": "0335777f-7dc4-4f14-bca4-f11017fe9751",
   "metadata": {},
   "outputs": [
    {
     "name": "stdout",
     "output_type": "stream",
     "text": [
      "['grape', 'blueberry', 'mango']\n"
     ]
    }
   ],
   "source": [
    "fruits.remove(\"apple\")  # Remove by value\n",
    "fruits.pop(2)           # Remove by index\n",
    "print(fruits)\n"
   ]
  },
  {
   "cell_type": "code",
   "execution_count": 46,
   "id": "8079d4d0-51f6-49b5-93a9-062969192d5f",
   "metadata": {},
   "outputs": [
    {
     "name": "stdout",
     "output_type": "stream",
     "text": [
      "(10, 20, 30)\n",
      "10\n"
     ]
    }
   ],
   "source": [
    "# Tuple (Ordered and immutable)\n",
    "numbers = (10, 20, 30)\n",
    "print(numbers)\n",
    "print(numbers[0])  # First element\n",
    "\n",
    "\n",
    "# Tuples are faster and memory-efficient compared to lists."
   ]
  },
  {
   "cell_type": "code",
   "execution_count": 48,
   "id": "7b8c4f70-417f-4b60-86e8-a8a92bcc53c9",
   "metadata": {},
   "outputs": [
    {
     "name": "stdout",
     "output_type": "stream",
     "text": [
      "{1, 2, 3, 4, 5}\n",
      "{1, 2, 4, 5, 6}\n"
     ]
    }
   ],
   "source": [
    "# Sets (Unordered and unique)\n",
    "unique_numbers = {1, 2, 3, 4, 4, 5}\n",
    "print(unique_numbers)\n",
    "\n",
    "unique_numbers.add(6)\n",
    "unique_numbers.remove(3)\n",
    "print(unique_numbers)\n"
   ]
  },
  {
   "cell_type": "code",
   "execution_count": 49,
   "id": "ef49af66-495c-4ff1-8108-67635c4aca10",
   "metadata": {},
   "outputs": [
    {
     "name": "stdout",
     "output_type": "stream",
     "text": [
      "{1, 2, 3, 4, 5}\n",
      "{3}\n",
      "{1, 2}\n"
     ]
    }
   ],
   "source": [
    "A = {1, 2, 3}\n",
    "B = {3, 4, 5}\n",
    "\n",
    "print(A.union(B))      # {1, 2, 3, 4, 5}\n",
    "print(A.intersection(B))  # {3}\n",
    "print(A.difference(B))  # {1, 2}\n"
   ]
  },
  {
   "cell_type": "code",
   "execution_count": 54,
   "id": "a393f7de-a89c-40f8-b1f8-ee0b3b1ef5b0",
   "metadata": {},
   "outputs": [
    {
     "name": "stdout",
     "output_type": "stream",
     "text": [
      "{'name': 'John', 'age': 25, 'grade': 'A'}\n",
      "John\n",
      "{'name': 'John', 'age': 25, 'grade': 'A+', 'city': 'New York'}\n",
      "{'name': 'John', 'grade': 'A+', 'city': 'New York'}\n"
     ]
    }
   ],
   "source": [
    "# Dictionaries (Key-value pairs)\n",
    "student = {\n",
    "    \"name\": \"John\",\n",
    "    \"age\": 25,\n",
    "    \"grade\": \"A\"\n",
    "}\n",
    "print(student)\n",
    "\n",
    "print(student[\"name\"])  # Output: John\n",
    "student[\"city\"] = \"New York\"  # Adding new key-value pair\n",
    "student[\"grade\"] = \"A+\"\n",
    "print(student)\n",
    "\n",
    "del student[\"age\"]\n",
    "print(student)\n"
   ]
  },
  {
   "cell_type": "code",
   "execution_count": null,
   "id": "337fef20-fa08-4fb3-aae0-b5c6965f0be2",
   "metadata": {},
   "outputs": [],
   "source": [
    "# Python Functions\n",
    "Functions help us write reusable and organized code. Instead of repeating the same code multiple times, we define a function and call it when needed."
   ]
  },
  {
   "cell_type": "code",
   "execution_count": 55,
   "id": "b3316f4a-0bbe-4738-92eb-dca074d66224",
   "metadata": {},
   "outputs": [
    {
     "name": "stdout",
     "output_type": "stream",
     "text": [
      "Hello! Welcome to Python.\n"
     ]
    }
   ],
   "source": [
    "def greet():\n",
    "    print(\"Hello! Welcome to Python.\")\n",
    "\n",
    "# Calling the function\n",
    "greet()\n"
   ]
  },
  {
   "cell_type": "code",
   "execution_count": 60,
   "id": "284c8d1d-7db9-4596-941e-3722384fcfa4",
   "metadata": {},
   "outputs": [
    {
     "name": "stdout",
     "output_type": "stream",
     "text": [
      "Hello, Madhu mangal!\n"
     ]
    }
   ],
   "source": [
    "def greet_user(name):\n",
    "    print(f\"Hello, {name}!\")\n",
    "\n",
    "greet_user(\"Madhu mangal\")\n"
   ]
  },
  {
   "cell_type": "code",
   "execution_count": 61,
   "id": "4afd1e4b-e035-4573-b699-42e7ecdd085e",
   "metadata": {},
   "outputs": [
    {
     "name": "stdout",
     "output_type": "stream",
     "text": [
      "15\n"
     ]
    }
   ],
   "source": [
    "def add(a, b):\n",
    "    return a + b  # Returns the sum\n",
    "\n",
    "result = add(5, 10)\n",
    "print(result)\n"
   ]
  },
  {
   "cell_type": "code",
   "execution_count": 63,
   "id": "77c7797c-4bd8-44ca-9629-76e75ad39da1",
   "metadata": {},
   "outputs": [
    {
     "name": "stdout",
     "output_type": "stream",
     "text": [
      "Hello, Guest!\n",
      "Hello, Jaganath!\n"
     ]
    }
   ],
   "source": [
    "def greet(name=\"Guest\"):\n",
    "    print(f\"Hello, {name}!\")\n",
    "\n",
    "greet()        # Uses default value\n",
    "greet(\"Jaganath\")  # Overrides default value\n"
   ]
  },
  {
   "cell_type": "code",
   "execution_count": 65,
   "id": "c2d5a83b-bf4d-4b5a-bb7c-5e0865b4c113",
   "metadata": {},
   "outputs": [
    {
     "name": "stdout",
     "output_type": "stream",
     "text": [
      "My name is Baladev, and I am 30 years old.\n"
     ]
    }
   ],
   "source": [
    "def introduce(name, age):\n",
    "    print(f\"My name is {name}, and I am {age} years old.\")\n",
    "\n",
    "introduce(age=30, name=\"Baladev\")\n"
   ]
  },
  {
   "cell_type": "code",
   "execution_count": 66,
   "id": "6c34ca95-1b27-4179-961f-d423898347fe",
   "metadata": {},
   "outputs": [
    {
     "name": "stdout",
     "output_type": "stream",
     "text": [
      "Square: 9, Cube: 27\n"
     ]
    }
   ],
   "source": [
    "# A function can return more than one value.\n",
    "\n",
    "def get_square_and_cube(n):\n",
    "    return n**2, n**3\n",
    "\n",
    "square, cube = get_square_and_cube(3)\n",
    "print(f\"Square: {square}, Cube: {cube}\")\n"
   ]
  },
  {
   "cell_type": "code",
   "execution_count": 68,
   "id": "fd849316-3ca8-4e02-91bf-94a9709ca982",
   "metadata": {},
   "outputs": [
    {
     "name": "stdout",
     "output_type": "stream",
     "text": [
      "25\n"
     ]
    }
   ],
   "source": [
    "# Lambda (Anonymous) Functions\n",
    "#A lambda function is a short function with no name.\n",
    "\n",
    "square = lambda x: x ** 2\n",
    "print(square(5))\n"
   ]
  },
  {
   "cell_type": "code",
   "execution_count": 69,
   "id": "f5f09bfc-735f-4723-80ec-8bd00285e539",
   "metadata": {},
   "outputs": [
    {
     "name": "stdout",
     "output_type": "stream",
     "text": [
      "12\n"
     ]
    }
   ],
   "source": [
    "#Lambda with Multiple Arguments\n",
    "multiply = lambda x, y: x * y\n",
    "print(multiply(3, 4))\n"
   ]
  },
  {
   "cell_type": "code",
   "execution_count": 72,
   "id": "82a5f1a9-82ae-430f-9f2a-839d0b4f2e84",
   "metadata": {},
   "outputs": [
    {
     "name": "stdout",
     "output_type": "stream",
     "text": [
      "10\n"
     ]
    }
   ],
   "source": [
    "# Using Lambda Inside Another Function\n",
    "\n",
    "def make_multiplier(n):\n",
    "    return lambda x: x * n\n",
    "\n",
    "double = make_multiplier(2)  # Returns a lambda function that doubles the input\n",
    "print(double(5))  \n"
   ]
  },
  {
   "cell_type": "code",
   "execution_count": 76,
   "id": "0fc29d15-866b-45f3-b891-1f9e36493d46",
   "metadata": {},
   "outputs": [
    {
     "name": "stdout",
     "output_type": "stream",
     "text": [
      "[1, 4, 9, 16, 25]\n",
      "[1, 4, 9, 16, 25]\n"
     ]
    }
   ],
   "source": [
    "# Using Lambda with map()\n",
    "\n",
    "numbers = [1, 2, 3, 4, 5]\n",
    "squared_numbers = list(map(lambda x: x ** 2, numbers))\n",
    "print(squared_numbers)\n",
    "\n",
    "#Equivalent to:\n",
    "\n",
    "def square(x):\n",
    "    return x ** 2\n",
    "\n",
    "squared_numbers = list(map(square, numbers))\n",
    "print(squared_numbers)\n"
   ]
  },
  {
   "cell_type": "code",
   "execution_count": 77,
   "id": "bfd84b09-d9fa-49d8-8d32-b40675d82524",
   "metadata": {},
   "outputs": [
    {
     "name": "stdout",
     "output_type": "stream",
     "text": [
      "[2, 4, 6]\n"
     ]
    }
   ],
   "source": [
    "#Using Lambda with filter()\n",
    "numbers = [1, 2, 3, 4, 5, 6]\n",
    "even_numbers = list(filter(lambda x: x % 2 == 0, numbers))\n",
    "print(even_numbers)\n"
   ]
  },
  {
   "cell_type": "code",
   "execution_count": 78,
   "id": "88bee173-a7d2-4d68-808d-55bae05acb2c",
   "metadata": {},
   "outputs": [
    {
     "name": "stdout",
     "output_type": "stream",
     "text": [
      "[('Bob', 72), ('Alice', 85), ('Charlie', 90)]\n"
     ]
    }
   ],
   "source": [
    "#Using Lambda with sorted() and key\n",
    "\n",
    "students = [(\"Alice\", 85), (\"Bob\", 72), (\"Charlie\", 90)]\n",
    "students_sorted = sorted(students, key=lambda x: x[1])  # Sort by scores\n",
    "print(students_sorted)\n"
   ]
  },
  {
   "cell_type": "code",
   "execution_count": 79,
   "id": "c7f8bfc7-3ea4-4c28-b639-d52c51bfd3df",
   "metadata": {},
   "outputs": [
    {
     "name": "stdout",
     "output_type": "stream",
     "text": [
      "120\n"
     ]
    }
   ],
   "source": [
    "# Using Lambda with reduce()\n",
    "\n",
    "from functools import reduce\n",
    "\n",
    "numbers = [1, 2, 3, 4, 5]\n",
    "product = reduce(lambda x, y: x * y, numbers)\n",
    "print(product)\n"
   ]
  }
 ],
 "metadata": {
  "kernelspec": {
   "display_name": "Python 3 (ipykernel)",
   "language": "python",
   "name": "python3"
  },
  "language_info": {
   "codemirror_mode": {
    "name": "ipython",
    "version": 3
   },
   "file_extension": ".py",
   "mimetype": "text/x-python",
   "name": "python",
   "nbconvert_exporter": "python",
   "pygments_lexer": "ipython3",
   "version": "3.10.12"
  }
 },
 "nbformat": 4,
 "nbformat_minor": 5
}
