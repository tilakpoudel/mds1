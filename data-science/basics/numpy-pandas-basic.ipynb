{
 "cells": [
  {
   "cell_type": "markdown",
   "id": "10a70356-90dd-4221-ab77-65c1635d87cb",
   "metadata": {},
   "source": [
    "# NumPy (Numerical Python)\n",
    "\n",
    "- NumPy (Numerical Python) is a powerful library for numerical computing in Python.\n",
    "- It provides multi-dimensional arrays and mathematical functions for operations on these arrays.\n",
    "- NumPy arrays are much faster and more memory-efficient than Python lists."
   ]
  },
  {
   "cell_type": "code",
   "execution_count": 1,
   "id": "90e6af14-afb0-4c56-a9ac-329a3a8756a4",
   "metadata": {},
   "outputs": [
    {
     "name": "stdout",
     "output_type": "stream",
     "text": [
      "[1 2 3 4 5]\n",
      "<class 'numpy.ndarray'>\n"
     ]
    }
   ],
   "source": [
    "import numpy as np\n",
    "\n",
    "arr = np.array([1,2,3,4,5])\n",
    "print(arr)\n",
    "print(type(arr))\n"
   ]
  },
  {
   "cell_type": "code",
   "execution_count": 3,
   "id": "13b821b5-b1ab-48a4-9049-d1aef5fd8fec",
   "metadata": {},
   "outputs": [
    {
     "name": "stdout",
     "output_type": "stream",
     "text": [
      "[[1 2 3]\n",
      " [4 5 6]]\n",
      "(2, 3)\n",
      "6\n",
      "2\n"
     ]
    }
   ],
   "source": [
    "# 2d array\n",
    "arr2D = np.array([[1, 2, 3], [4, 5, 6]])\n",
    "print(arr2D)\n",
    "print(arr2D.shape)  # (rows, columns)\n",
    "print(arr2D.size)   # Total number of elements\n",
    "print(arr2D.ndim)   # Number of dimensions\n"
   ]
  },
  {
   "cell_type": "code",
   "execution_count": 4,
   "id": "2483ea7a-80b1-4c13-9b04-7651eb22e31b",
   "metadata": {},
   "outputs": [
    {
     "name": "stdout",
     "output_type": "stream",
     "text": [
      "[[0. 0. 0.]\n",
      " [0. 0. 0.]\n",
      " [0. 0. 0.]]\n"
     ]
    }
   ],
   "source": [
    "# Special NumPy Arrays\n",
    "zeros = np.zeros((3,3))\n",
    "print(zeros)"
   ]
  },
  {
   "cell_type": "code",
   "execution_count": 5,
   "id": "13aaa646-4dd3-4502-a7e7-9706b1e9c554",
   "metadata": {},
   "outputs": [
    {
     "name": "stdout",
     "output_type": "stream",
     "text": [
      "[[1. 1. 1. 1.]\n",
      " [1. 1. 1. 1.]]\n"
     ]
    }
   ],
   "source": [
    "ones = np.ones((2, 4))  # 2 rows, 4 columns filled with 1s\n",
    "print(ones)\n"
   ]
  },
  {
   "cell_type": "code",
   "execution_count": 6,
   "id": "73e84f72-2969-460b-9028-51f37d014480",
   "metadata": {},
   "outputs": [
    {
     "name": "stdout",
     "output_type": "stream",
     "text": [
      "[[1. 0. 0. 0.]\n",
      " [0. 1. 0. 0.]\n",
      " [0. 0. 1. 0.]\n",
      " [0. 0. 0. 1.]]\n"
     ]
    }
   ],
   "source": [
    "identity = np.eye(4)  # 4x4 identity matrix\n",
    "print(identity)"
   ]
  },
  {
   "cell_type": "code",
   "execution_count": 7,
   "id": "b93747df-1d12-4290-8e2b-0ce3e66f2343",
   "metadata": {},
   "outputs": [
    {
     "name": "stdout",
     "output_type": "stream",
     "text": [
      "[[0.87021679 0.67904293 0.41816887]\n",
      " [0.89543298 0.0818423  0.3956592 ]\n",
      " [0.17983961 0.70303087 0.85432066]]\n"
     ]
    }
   ],
   "source": [
    "random_array = np.random.rand(3, 3)  # 3x3 matrix with random values\n",
    "print(random_array)\n"
   ]
  },
  {
   "cell_type": "code",
   "execution_count": 10,
   "id": "305304cc-d079-44d4-8e7b-038f712d2930",
   "metadata": {},
   "outputs": [
    {
     "name": "stdout",
     "output_type": "stream",
     "text": [
      "10\n",
      "50\n",
      "60\n",
      "[20 30 40]\n"
     ]
    }
   ],
   "source": [
    "# Accessing elements (Indexing and slicing)\n",
    "arr = np.array([10, 20, 30, 40, 50])\n",
    "print(arr[0])  # First element\n",
    "print(arr[-1]) # Last element\n",
    "\n",
    "arr2D = np.array([[10, 20, 30], [40, 50, 60]])\n",
    "print(arr2D[1, 2])  # Second row, third column (60)\n",
    "\n",
    "arr = np.array([10, 20, 30, 40, 50])\n",
    "print(arr[1:4])  # Elements from index 1 to 3\n"
   ]
  },
  {
   "cell_type": "code",
   "execution_count": 12,
   "id": "fee5a383-6b63-4066-bbb7-98bc3219d3fd",
   "metadata": {},
   "outputs": [
    {
     "name": "stdout",
     "output_type": "stream",
     "text": [
      "[5 7 9]\n",
      "[ 4 10 18]\n",
      "[1 4 9]\n",
      "150\n",
      "30.0\n",
      "50\n",
      "10\n",
      "14.142135623730951\n"
     ]
    }
   ],
   "source": [
    "# NumPy operations\n",
    "arr1 = np.array([1, 2, 3])\n",
    "arr2 = np.array([4, 5, 6])\n",
    "\n",
    "print(arr1 + arr2)  # [5 7 9]\n",
    "print(arr1 * arr2)  # [4 10 18]\n",
    "print(arr1 ** 2)    # [1 4 9]\n",
    "\n",
    "arr = np.array([10, 20, 30, 40, 50])\n",
    "print(np.sum(arr))      # Sum of all elements\n",
    "print(np.mean(arr))     # Mean (average)\n",
    "print(np.max(arr))      # Maximum value\n",
    "print(np.min(arr))      # Minimum value\n",
    "print(np.std(arr))      # Standard deviation\n"
   ]
  },
  {
   "cell_type": "code",
   "execution_count": 13,
   "id": "5db32ed0-a165-4e84-acd4-e816b5a76546",
   "metadata": {},
   "outputs": [
    {
     "name": "stdout",
     "output_type": "stream",
     "text": [
      "[[1 2 3]\n",
      " [4 5 6]]\n"
     ]
    }
   ],
   "source": [
    "arr = np.array([1, 2, 3, 4, 5, 6])\n",
    "reshaped = arr.reshape(2, 3)  # Converts 1D array into 2D (2 rows, 3 columns)\n",
    "print(reshaped)\n"
   ]
  },
  {
   "cell_type": "code",
   "execution_count": null,
   "id": "ebf3fe49-75e5-442e-a7c0-c02386929156",
   "metadata": {},
   "outputs": [],
   "source": [
    "# Pandas"
   ]
  },
  {
   "cell_type": "markdown",
   "id": "4315fa5d-8691-485a-a4df-a715a6fc7b16",
   "metadata": {
    "jp-MarkdownHeadingCollapsed": true
   },
   "source": [
    "Pandas is a Python library that provides fast, flexible, and expressive data structures designed to work with structured (tables, spreadsheets) and semi-structured data."
   ]
  },
  {
   "cell_type": "code",
   "execution_count": 14,
   "id": "30b7ea2e-9336-4db3-b644-641a425688a9",
   "metadata": {},
   "outputs": [
    {
     "name": "stdout",
     "output_type": "stream",
     "text": [
      "0    10\n",
      "1    20\n",
      "2    30\n",
      "3    40\n",
      "dtype: int64\n"
     ]
    }
   ],
   "source": [
    "#A Series is like a NumPy array, but with labels (index).\n",
    "import pandas as pd\n",
    "\n",
    "data = [10, 20, 30, 40]\n",
    "series = pd.Series(data)\n",
    "\n",
    "print(series)\n"
   ]
  },
  {
   "cell_type": "code",
   "execution_count": 15,
   "id": "77145387-c79a-430f-b971-9066a297ba7c",
   "metadata": {},
   "outputs": [
    {
     "name": "stdout",
     "output_type": "stream",
     "text": [
      "Alice      90\n",
      "Bob        85\n",
      "Charlie    88\n",
      "dtype: int64\n"
     ]
    }
   ],
   "source": [
    "students = pd.Series([90, 85, 88], index=['Alice', 'Bob', 'Charlie'])\n",
    "print(students)\n"
   ]
  },
  {
   "cell_type": "markdown",
   "id": "a50452eb-1705-41e0-9ef8-b13037e92618",
   "metadata": {},
   "source": [
    "# Dataframe (2D Data)\n",
    "A DataFrame is like a table or spreadsheet with rows and columns."
   ]
  },
  {
   "cell_type": "code",
   "execution_count": 16,
   "id": "42acdfc3-5bda-4940-8733-ba8af78e94ed",
   "metadata": {},
   "outputs": [
    {
     "name": "stdout",
     "output_type": "stream",
     "text": [
      "      Name  Age  Score\n",
      "0    Alice   25     90\n",
      "1      Bob   30     85\n",
      "2  Charlie   22     88\n"
     ]
    }
   ],
   "source": [
    "data = {\n",
    "    'Name': ['Alice', 'Bob', 'Charlie'],\n",
    "    'Age': [25, 30, 22],\n",
    "    'Score': [90, 85, 88]\n",
    "}\n",
    "\n",
    "df = pd.DataFrame(data)\n",
    "print(df)\n"
   ]
  },
  {
   "cell_type": "code",
   "execution_count": null,
   "id": "cc466267-77ac-4c5d-9668-036950b1a423",
   "metadata": {},
   "outputs": [],
   "source": []
  },
  {
   "cell_type": "code",
   "execution_count": null,
   "id": "b5c842ed-6e00-4cca-8d54-e324ab7057ac",
   "metadata": {},
   "outputs": [],
   "source": []
  },
  {
   "cell_type": "code",
   "execution_count": null,
   "id": "b32e1e1f-b329-4f49-b059-79c9ef34ed5e",
   "metadata": {},
   "outputs": [],
   "source": []
  },
  {
   "cell_type": "code",
   "execution_count": null,
   "id": "17774c15-6322-4835-9507-878c5ae14a80",
   "metadata": {},
   "outputs": [],
   "source": []
  }
 ],
 "metadata": {
  "kernelspec": {
   "display_name": "Python 3 (ipykernel)",
   "language": "python",
   "name": "python3"
  },
  "language_info": {
   "codemirror_mode": {
    "name": "ipython",
    "version": 3
   },
   "file_extension": ".py",
   "mimetype": "text/x-python",
   "name": "python",
   "nbconvert_exporter": "python",
   "pygments_lexer": "ipython3",
   "version": "3.10.12"
  }
 },
 "nbformat": 4,
 "nbformat_minor": 5
}
