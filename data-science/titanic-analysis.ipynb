{
 "cells": [
  {
   "cell_type": "markdown",
   "id": "974dfdcb-f3a7-43d0-b009-ed0e85dd1b25",
   "metadata": {},
   "source": [
    "# Analysis of titanic.csv dataset"
   ]
  },
  {
   "cell_type": "code",
   "execution_count": null,
   "id": "9ded5502-7351-4018-a7af-670c77e3e486",
   "metadata": {},
   "outputs": [],
   "source": [
    "# 1. Import the necessary libraries and import the dataset"
   ]
  },
  {
   "cell_type": "code",
   "execution_count": 36,
   "id": "88e31fb3-c699-4965-85ab-4177d6dfc6a5",
   "metadata": {},
   "outputs": [],
   "source": [
    "import pandas as pd\n",
    "\n",
    "# Load the data\n",
    "df = pd.read_csv('data/titanic.csv')"
   ]
  },
  {
   "cell_type": "code",
   "execution_count": 6,
   "id": "b840011c-aa01-4187-8f8c-d394e24be193",
   "metadata": {},
   "outputs": [
    {
     "name": "stdout",
     "output_type": "stream",
     "text": [
      "   PassengerId  Survived  Pclass  \\\n",
      "0            1         0       3   \n",
      "1            2         1       1   \n",
      "2            3         1       3   \n",
      "3            4         1       1   \n",
      "4            5         0       3   \n",
      "\n",
      "                                                Name     Sex   Age  SibSp  \\\n",
      "0                            Braund, Mr. Owen Harris    male  22.0      1   \n",
      "1  Cumings, Mrs. John Bradley (Florence Briggs Th...  female  38.0      1   \n",
      "2                             Heikkinen, Miss. Laina  female  26.0      0   \n",
      "3       Futrelle, Mrs. Jacques Heath (Lily May Peel)  female  35.0      1   \n",
      "4                           Allen, Mr. William Henry    male  35.0      0   \n",
      "\n",
      "   Parch            Ticket     Fare Cabin Embarked  \n",
      "0      0         A/5 21171   7.2500   NaN        S  \n",
      "1      0          PC 17599  71.2833   C85        C  \n",
      "2      0  STON/O2. 3101282   7.9250   NaN        S  \n",
      "3      0            113803  53.1000  C123        S  \n",
      "4      0            373450   8.0500   NaN        S  \n"
     ]
    }
   ],
   "source": [
    "# 2. See the first 15 entries\n",
    "print(df.head())"
   ]
  },
  {
   "cell_type": "code",
   "execution_count": 7,
   "id": "1378fb6d-8fa7-4806-840b-6f7d875803d7",
   "metadata": {},
   "outputs": [
    {
     "name": "stdout",
     "output_type": "stream",
     "text": [
      "     PassengerId  Survived  Pclass                                      Name  \\\n",
      "886          887         0       2                     Montvila, Rev. Juozas   \n",
      "887          888         1       1              Graham, Miss. Margaret Edith   \n",
      "888          889         0       3  Johnston, Miss. Catherine Helen \"Carrie\"   \n",
      "889          890         1       1                     Behr, Mr. Karl Howell   \n",
      "890          891         0       3                       Dooley, Mr. Patrick   \n",
      "\n",
      "        Sex   Age  SibSp  Parch      Ticket   Fare Cabin Embarked  \n",
      "886    male  27.0      0      0      211536  13.00   NaN        S  \n",
      "887  female  19.0      0      0      112053  30.00   B42        S  \n",
      "888  female   NaN      1      2  W./C. 6607  23.45   NaN        S  \n",
      "889    male  26.0      0      0      111369  30.00  C148        C  \n",
      "890    male  32.0      0      0      370376   7.75   NaN        Q  \n"
     ]
    }
   ],
   "source": [
    "#3. See last 10 entries\n",
    "print(df.tail())"
   ]
  },
  {
   "cell_type": "code",
   "execution_count": 8,
   "id": "915c0288-8394-44ab-89c0-1a75922395f7",
   "metadata": {},
   "outputs": [
    {
     "name": "stdout",
     "output_type": "stream",
     "text": [
      "(891, 12)\n"
     ]
    }
   ],
   "source": [
    "#4. What is the shape of the dataset?\n",
    "print(df.shape) # no. of row and columns"
   ]
  },
  {
   "cell_type": "code",
   "execution_count": 9,
   "id": "958daed2-4644-4be9-903f-84e6dfec0e63",
   "metadata": {},
   "outputs": [
    {
     "name": "stdout",
     "output_type": "stream",
     "text": [
      "Number of observations 891\n"
     ]
    }
   ],
   "source": [
    "#5. What is the number of observations?\n",
    "num_observations = df.shape[0]\n",
    "print(f\"Number of observations {num_observations}\")"
   ]
  },
  {
   "cell_type": "code",
   "execution_count": 10,
   "id": "6c598e21-53b5-4092-b05a-d15f74d123b8",
   "metadata": {},
   "outputs": [
    {
     "name": "stdout",
     "output_type": "stream",
     "text": [
      "The number of columns: 12\n"
     ]
    }
   ],
   "source": [
    "#6. What is the number of columns?\n",
    "num_cols = df.shape[1]\n",
    "print(f\"The number of columns: {num_cols}\" )"
   ]
  },
  {
   "cell_type": "code",
   "execution_count": 11,
   "id": "b314768e-09dc-401a-a882-03bc3c3e8e8e",
   "metadata": {},
   "outputs": [
    {
     "name": "stdout",
     "output_type": "stream",
     "text": [
      "Index(['PassengerId', 'Survived', 'Pclass', 'Name', 'Sex', 'Age', 'SibSp',\n",
      "       'Parch', 'Ticket', 'Fare', 'Cabin', 'Embarked'],\n",
      "      dtype='object')\n"
     ]
    }
   ],
   "source": [
    "#7. Name of all columns\n",
    "print(df.columns)"
   ]
  },
  {
   "cell_type": "code",
   "execution_count": 19,
   "id": "d1a63eee-a37f-4e92-a2c1-38d64f9a0a82",
   "metadata": {},
   "outputs": [
    {
     "name": "stdout",
     "output_type": "stream",
     "text": [
      "0      3\n",
      "1      1\n",
      "2      3\n",
      "3      1\n",
      "4      3\n",
      "      ..\n",
      "886    2\n",
      "887    1\n",
      "888    3\n",
      "889    1\n",
      "890    3\n",
      "Name: Pclass, Length: 891, dtype: int64\n"
     ]
    }
   ],
   "source": [
    "#8. Print only the Pclass col\n",
    "print(df['Pclass'])"
   ]
  },
  {
   "cell_type": "code",
   "execution_count": 12,
   "id": "3b9d2051-c8ef-451c-87ec-84ef44f60927",
   "metadata": {},
   "outputs": [
    {
     "name": "stdout",
     "output_type": "stream",
     "text": [
      "[3 1 2]\n"
     ]
    }
   ],
   "source": [
    "#9. What are the different values in the Pclass column?\n",
    "print(df['Pclass'].unique())"
   ]
  },
  {
   "cell_type": "code",
   "execution_count": 13,
   "id": "387039a5-e8ca-4a40-9726-04a5d0f4703c",
   "metadata": {},
   "outputs": [
    {
     "name": "stdout",
     "output_type": "stream",
     "text": [
      "Number of different Pclass: 3\n"
     ]
    }
   ],
   "source": [
    "#10. How many different Pclass are in the dataset?\n",
    "num_pclass = df['Pclass'].nunique()\n",
    "print(f\"Number of different Pclass: {num_pclass}\")"
   ]
  },
  {
   "cell_type": "markdown",
   "id": "c47e725d-641e-47ac-877f-695a05fcbaeb",
   "metadata": {},
   "source": [
    "# 11. Summarize the dataset (using describe() function)\n",
    "The .describe() function provides a summary of the dataset, including statistics like mean, standard deviation, min, max, and quartiles for numerical columns."
   ]
  },
  {
   "cell_type": "code",
   "execution_count": 24,
   "id": "ad6014a5-961f-45bb-8b75-8aef5b89ce80",
   "metadata": {},
   "outputs": [
    {
     "name": "stdout",
     "output_type": "stream",
     "text": [
      "       PassengerId    Survived      Pclass         Age       SibSp  \\\n",
      "count   891.000000  891.000000  891.000000  714.000000  891.000000   \n",
      "mean    446.000000    0.383838    2.308642   29.699118    0.523008   \n",
      "std     257.353842    0.486592    0.836071   14.526497    1.102743   \n",
      "min       1.000000    0.000000    1.000000    0.420000    0.000000   \n",
      "25%     223.500000    0.000000    2.000000   20.125000    0.000000   \n",
      "50%     446.000000    0.000000    3.000000   28.000000    0.000000   \n",
      "75%     668.500000    1.000000    3.000000   38.000000    1.000000   \n",
      "max     891.000000    1.000000    3.000000   80.000000    8.000000   \n",
      "\n",
      "            Parch        Fare  \n",
      "count  891.000000  891.000000  \n",
      "mean     0.381594   32.204208  \n",
      "std      0.806057   49.693429  \n",
      "min      0.000000    0.000000  \n",
      "25%      0.000000    7.910400  \n",
      "50%      0.000000   14.454200  \n",
      "75%      0.000000   31.000000  \n",
      "max      6.000000  512.329200  \n"
     ]
    }
   ],
   "source": [
    "print(df.describe())"
   ]
  },
  {
   "cell_type": "code",
   "execution_count": 14,
   "id": "ef48295c-75fd-4edc-b9e7-398154e7eac3",
   "metadata": {},
   "outputs": [
    {
     "name": "stdout",
     "output_type": "stream",
     "text": [
      "count    714.000000\n",
      "mean      29.699118\n",
      "std       14.526497\n",
      "min        0.420000\n",
      "25%       20.125000\n",
      "50%       28.000000\n",
      "75%       38.000000\n",
      "max       80.000000\n",
      "Name: Age, dtype: float64\n"
     ]
    }
   ],
   "source": [
    "# 12. Summarize only the Age column.\n",
    "print(df['Age'].describe())\n"
   ]
  },
  {
   "cell_type": "code",
   "execution_count": 15,
   "id": "593d33ff-158b-4722-b75e-dc6d3fd4ef93",
   "metadata": {},
   "outputs": [
    {
     "name": "stdout",
     "output_type": "stream",
     "text": [
      "Mean age of passengers: 29.69911764705882\n"
     ]
    }
   ],
   "source": [
    "# 13. What is the mean age of passengers?\n",
    "mean_age = df['Age'].mean()\n",
    "print(f\"Mean age of passengers: {mean_age}\")\n"
   ]
  },
  {
   "cell_type": "code",
   "execution_count": null,
   "id": "08d61105-f8bd-4113-9384-9fab114fa50c",
   "metadata": {},
   "outputs": [],
   "source": [
    "# 14. See if there is any relationship between Age column and Fare column."
   ]
  },
  {
   "cell_type": "code",
   "execution_count": 17,
   "id": "bac8effc-1b41-4737-bd38-bb3917a31dbf",
   "metadata": {},
   "outputs": [
    {
     "data": {
      "image/png": "[encoded data removed]",
      "text/plain": [
       "<Figure size 640x480 with 1 Axes>"
      ]
     },
     "metadata": {},
     "output_type": "display_data"
    }
   ],
   "source": [
    "import matplotlib.pyplot as plt\n",
    "\n",
    "# Scatter plot\n",
    "plt.scatter(df['Age'], df['Fare'])\n",
    "plt.xlabel('Age')\n",
    "plt.ylabel('Fare')\n",
    "plt.title('Age vs Fare')\n",
    "plt.show()\n"
   ]
  },
  {
   "cell_type": "code",
   "execution_count": 19,
   "id": "83f4dabf-6f66-4dc1-b1ba-f65448c91a0e",
   "metadata": {},
   "outputs": [
    {
     "name": "stdout",
     "output_type": "stream",
     "text": [
      "The correlation between age and fare is: 0.09606669176903888\n"
     ]
    }
   ],
   "source": [
    "# Finding the correlation between age ad fare\n",
    "age_fare_correlation = df['Age'].corr(df['Fare'])\n",
    "print(f\"The correlation between age and fare is: {age_fare_correlation}\")"
   ]
  },
  {
   "cell_type": "code",
   "execution_count": 20,
   "id": "c0d48a73-8e0c-4bc0-bd1c-fe52fc784f13",
   "metadata": {},
   "outputs": [
    {
     "name": "stdout",
     "output_type": "stream",
     "text": [
      "    PassengerId  Survived  Pclass  \\\n",
      "1             2         1       1   \n",
      "3             4         1       1   \n",
      "4             5         0       3   \n",
      "6             7         0       1   \n",
      "11           12         1       1   \n",
      "\n",
      "                                                 Name     Sex   Age  SibSp  \\\n",
      "1   Cumings, Mrs. John Bradley (Florence Briggs Th...  female  38.0      1   \n",
      "3        Futrelle, Mrs. Jacques Heath (Lily May Peel)  female  35.0      1   \n",
      "4                            Allen, Mr. William Henry    male  35.0      0   \n",
      "6                             McCarthy, Mr. Timothy J    male  54.0      0   \n",
      "11                           Bonnell, Miss. Elizabeth  female  58.0      0   \n",
      "\n",
      "    Parch    Ticket     Fare Cabin Embarked  \n",
      "1       0  PC 17599  71.2833   C85        C  \n",
      "3       0    113803  53.1000  C123        S  \n",
      "4       0    373450   8.0500   NaN        S  \n",
      "6       0     17463  51.8625   E46        S  \n",
      "11      0    113783  26.5500  C103        S  \n"
     ]
    }
   ],
   "source": [
    "# 15. Select only the rows where age is more than 30.\n",
    "df_age_30_plus = df[df['Age'] > 30]\n",
    "print(df_age_30_plus.head())\n"
   ]
  },
  {
   "cell_type": "code",
   "execution_count": 29,
   "id": "ef1fe668-a84f-42ae-a2aa-cf304db0f379",
   "metadata": {},
   "outputs": [
    {
     "name": "stdout",
     "output_type": "stream",
     "text": [
      "PassengerId      0\n",
      "Survived         0\n",
      "Pclass           0\n",
      "Name             0\n",
      "Sex              0\n",
      "Age            177\n",
      "SibSp            0\n",
      "Parch            0\n",
      "Ticket           0\n",
      "Fare             0\n",
      "Cabin          687\n",
      "Embarked         2\n",
      "dtype: int64\n"
     ]
    }
   ],
   "source": [
    "# 16. Check if null values are present or not in the dataset. (If present display the rows)\n",
    "print(df.isnull().sum())\n"
   ]
  },
  {
   "cell_type": "code",
   "execution_count": 34,
   "id": "ca7dac4a-2698-4058-9906-bfdaf3231e21",
   "metadata": {},
   "outputs": [
    {
     "name": "stdout",
     "output_type": "stream",
     "text": [
      "     PassengerId  Survived  Pclass                                      Name  \\\n",
      "0              1         0       3                   Braund, Mr. Owen Harris   \n",
      "2              3         1       3                    Heikkinen, Miss. Laina   \n",
      "4              5         0       3                  Allen, Mr. William Henry   \n",
      "5              6         0       3                          Moran, Mr. James   \n",
      "7              8         0       3            Palsson, Master. Gosta Leonard   \n",
      "..           ...       ...     ...                                       ...   \n",
      "884          885         0       3                    Sutehall, Mr. Henry Jr   \n",
      "885          886         0       3      Rice, Mrs. William (Margaret Norton)   \n",
      "886          887         0       2                     Montvila, Rev. Juozas   \n",
      "888          889         0       3  Johnston, Miss. Catherine Helen \"Carrie\"   \n",
      "890          891         0       3                       Dooley, Mr. Patrick   \n",
      "\n",
      "        Sex   Age  SibSp  Parch     Fare Cabin Embarked  \n",
      "0      male  22.0      1      0   7.2500   NaN        S  \n",
      "2    female  26.0      0      0   7.9250   NaN        S  \n",
      "4      male  35.0      0      0   8.0500   NaN        S  \n",
      "5      male   NaN      0      0   8.4583   NaN        Q  \n",
      "7      male   2.0      3      1  21.0750   NaN        S  \n",
      "..      ...   ...    ...    ...      ...   ...      ...  \n",
      "884    male  25.0      0      0   7.0500   NaN        S  \n",
      "885  female  39.0      0      5  29.1250   NaN        Q  \n",
      "886    male  27.0      0      0  13.0000   NaN        S  \n",
      "888  female   NaN      1      2  23.4500   NaN        S  \n",
      "890    male  32.0      0      0   7.7500   NaN        Q  \n",
      "\n",
      "[708 rows x 11 columns]\n",
      "Index(['PassengerId', 'Survived', 'Pclass', 'Name', 'Sex', 'Age', 'SibSp',\n",
      "       'Parch', 'Fare', 'Cabin', 'Embarked'],\n",
      "      dtype='object')\n"
     ]
    }
   ],
   "source": [
    "df_with_nulls = df[df.isnull().any(axis=1)]\n",
    "print(df_with_nulls)\n",
    "print(df.columns)\n"
   ]
  },
  {
   "cell_type": "code",
   "execution_count": 28,
   "id": "814257cd-e606-47e0-9843-150f37afc0c7",
   "metadata": {},
   "outputs": [
    {
     "name": "stdout",
     "output_type": "stream",
     "text": [
      "Index(['PassengerId', 'Survived', 'Pclass', 'Name', 'Sex', 'Age', 'SibSp',\n",
      "       'Parch', 'Fare', 'Cabin', 'Embarked'],\n",
      "      dtype='object')\n"
     ]
    }
   ],
   "source": [
    "new_df = df.drop('Ticket', axis=1, inplace=False) \n",
    "\n",
    "# print(new_df.columns)\n",
    "df.drop('Ticket', axis=1, inplace=True) # inplace true updates the original df removing Ticket\n",
    "# with inplace false it creates a new data frame removing the column\n",
    "\n",
    "print(df.columns)"
   ]
  },
  {
   "cell_type": "code",
   "execution_count": 39,
   "id": "3806b3d4-6795-4a14-957a-fc15d7b0ada9",
   "metadata": {},
   "outputs": [
    {
     "name": "stdout",
     "output_type": "stream",
     "text": [
      "   SibSp  Parch  Family\n",
      "0      1      0       1\n",
      "1      1      0       1\n",
      "2      0      0       0\n",
      "3      1      0       1\n",
      "4      0      0       0\n"
     ]
    }
   ],
   "source": [
    "# 18. Create a new column ‘Family’ which is defined as:\n",
    "df['Family'] = df['SibSp'] + df['Parch']\n",
    "print(df[['SibSp', 'Parch', 'Family']].head())"
   ]
  }
 ],
 "metadata": {
  "kernelspec": {
   "display_name": "Python 3 (ipykernel)",
   "language": "python",
   "name": "python3"
  },
  "language_info": {
   "codemirror_mode": {
    "name": "ipython",
    "version": 3
   },
   "file_extension": ".py",
   "mimetype": "text/x-python",
   "name": "python",
   "nbconvert_exporter": "python",
   "pygments_lexer": "ipython3",
   "version": "3.10.12"
  }
 },
 "nbformat": 4,
 "nbformat_minor": 5
}
